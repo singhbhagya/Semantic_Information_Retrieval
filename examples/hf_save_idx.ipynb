{
 "cells": [
  {
   "cell_type": "markdown",
   "metadata": {},
   "source": [
    "# Uploading indices to Hugging Face"
   ]
  },
  {
   "cell_type": "code",
   "execution_count": 1,
   "metadata": {},
   "outputs": [],
   "source": [
    "from baguetter.indices import BMXSparseIndex\n",
    "from baguetter.evaluation import HFDataset"
   ]
  },
  {
   "cell_type": "markdown",
   "metadata": {},
   "source": [
    "## 1. Create index and load dataset"
   ]
  },
  {
   "cell_type": "code",
   "execution_count": 2,
   "metadata": {},
   "outputs": [],
   "source": [
    "index = BMXSparseIndex()\n",
    "\n",
    "ds = HFDataset(\"mteb/scidocs\", \"corpus\")\n",
    "doc_ids, docs = ds.get_corpus()\n",
    "_, queries = ds.get_queries()"
   ]
  },
  {
   "cell_type": "markdown",
   "metadata": {},
   "source": [
    "## 2. Add documents to index"
   ]
  },
  {
   "cell_type": "code",
   "execution_count": 3,
   "metadata": {},
   "outputs": [
    {
     "name": "stderr",
     "output_type": "stream",
     "text": [
      "Tokenization: 100%|██████████| 25657/25657 [00:08<00:00, 2902.54it/s]\n",
      "Building doc-term matrix: 100%|██████████| 25657/25657 [00:00<00:00, 47972.01it/s]\n",
      "Building inverted index: 100%|██████████| 61627/61627 [00:04<00:00, 14397.29it/s]\n"
     ]
    },
    {
     "data": {
      "text/plain": [
       "<baguetter.indices.sparse.bmx.BMXSparseIndex at 0x31737e650>"
      ]
     },
     "execution_count": 3,
     "metadata": {},
     "output_type": "execute_result"
    }
   ],
   "source": [
    "index.add_many(doc_ids, docs, show_progress=True)"
   ]
  },
  {
   "cell_type": "markdown",
   "metadata": {},
   "source": [
    "## 3. Save index to Hugging Face"
   ]
  },
  {
   "cell_type": "code",
   "execution_count": 4,
   "metadata": {},
   "outputs": [
    {
     "name": "stderr",
     "output_type": "stream",
     "text": [
      "No files have been modified since last commit. Skipping to prevent empty commit.\n"
     ]
    },
    {
     "data": {
      "text/plain": [
       "'datasets/mixedbread-ai/baguetter/bmx_scidocs'"
      ]
     },
     "execution_count": 4,
     "metadata": {},
     "output_type": "execute_result"
    }
   ],
   "source": [
    "index.push_to_hub(\"mixedbread-ai/baguetter\", \"bmx_scidocs\")"
   ]
  },
  {
   "cell_type": "markdown",
   "metadata": {},
   "source": [
    "## 4. Load index from Hugging Face"
   ]
  },
  {
   "cell_type": "code",
   "execution_count": 5,
   "metadata": {},
   "outputs": [],
   "source": [
    "idx = index.load_from_hub(\"mixedbread-ai/baguetter\", \"bmx_scidocs\")"
   ]
  },
  {
   "cell_type": "markdown",
   "metadata": {},
   "source": [
    "## 5. Use index"
   ]
  },
  {
   "cell_type": "code",
   "execution_count": 6,
   "metadata": {},
   "outputs": [
    {
     "data": {
      "text/plain": [
       "SearchResults(keys=['86e87db2dab958f1bd5877dc7d5b8105d6e31e46', 'cd31ecb3b58d1ec0d8b6e196bddb71dd6a921b6d', '2a43d3905699927ace64e880fe9ba8a730e14be1', 'eef39364df06eb9933d2fc41a0f13eea17113c58', '19c90b3c0c0d94e8235731a057cc6377c46482ee', '768b18d745639fcfb157fe16cbd957ca60ebfc2e', 'f2ab0a2aa4177dd267c3c6cc37c7ad0e33c2cdbf', 'd504a72e40ecee5c2e721629e7368a959b18c681', 'd1d120bc98e536dd33e37c876aaba57e584d252e', 'e2890afe42e64b910609e7554130d6a81427e02a', '829033fd070c6ed30d28a21187e0def25a3e809f', '0948365ef39ef153e61e9569ade541cf881c7c2a', '4a4cea4421ff0be7bcc06e92179cd2d5f1102ff8', '745b88eb437eb59e2a58fe378d287702a6b0d985', '1f009366a901c403a8aad65c94ec2fecf3428081', '26880494f79ae1e35ffee7f055cb0ad5693060c2', '432143ab67c05f42c918c4ed6fd9412d26e659be', '53f3edfeb22de82c7a4b4a02209d296526eee38c', 'a16dc6af67ef9746068c63a56a580cb3b2a83e9c', '2eafdb47aa9b5b510f7fcb113b22e6ab7c79d143', '0a202f1dfc6991a6a204eaa5e6b46d6223a4d98a', '6307f94aefdc7268c27e3af8fc04f090bc1b18bb', 'e90dd4a2750df4d52918a610ba9fb2b013153508', '1e7efea26cfbbcd2905d63451e77a02f1031ea12', '3978e9f794174c7a2700b20193c071a7b1532b22', '1e8f46aeed1a96554a2d759d7ca194e1f9c22de1', '41d205fd36883f506bccf56db442bac92a854ec3', '2766913aabb151107b28279645b915a3aa86c816', '120f1a81fd4abd089f47a335d0771b4162e851e8', '91de962e115bcf65eaf8579471a818ba8c5b0ea6', '7a58abc92dbe41c9e5b3c7b0a358ab9096880f25', '2fdee22266d58ae4e891711208106ca46c8e2778', 'd5bed3840cbb7e29a89847c21b697609607d12d2', '943d17f36d320ad9fcc3ae82c78914c0111cef1d', 'd79dd895912a36670b3477645f361e2fdd73185b', '02599a02d46ea2f1c00e14cac2a76dcb156df8ee', '3c55c334d34b611a565683ea42a06d4e1f01db47', '9283e274236af381cfb20e7dda79f249936b02ab', '3fd46ca896d023df8c8af2b3951730d8c38defdd', '0760b3baa196cd449d2c81604883815a6fc73b6a', '576296d739f61fcd4f4433f09a91f350a0c9598d', 'fda1e13a2eaeaa0b4434833d3ee0eb8e79b0ba94', 'ea5b1f3c719cd4ddd4c78a0da1501e36d87d9782', '4ac639f092b870ebe72e4b366afb90f3073d6223', 'ab93fe25985409d99b15a49ae9d8987561749a32', 'f3381a72a5ed288d54a93d92a85e96f7ba2ab36c', '62c3daf1899f6841f7092961193f062cc4fe1103', 'bfb88f34328be56dc7917a59c2aee7a8c22795e1', '166f42f66c5e6dd959548acfb97dc77a36013639', 'ad0323b075146e7d7a3ef3aacb9892201da69492', '84ca84dad742749a827291e103cde8185cea1bcf', '9c8e7655dd233df3d5b3249f416ec992cebe7a10', '3fe910b1360a77f50f73c2e82e654b6028072826', '00b202871ec41b8049e8393e463660525ecb61b5', '55ca165fa6091973674b12ea8fa3f1a3a1e50a6d', '51bb6450e617986d1bd8566878f7693ffd03132d', '9981e27f01960526ea68227c7f8120e0c3ffe87f', '5092a67406d823a6f6fd3dac555b9d022ad20bdf', '2ec3a0d6c71face777138f7cdc2e44d6762d23f5', '77ccf604ca460ac65d2bd14792c901879c4a0153', 'dca4eaacddb18ad44786c008b73296831502d27c', '35875600a30f89ea133ac06afeefc8cacec9fb3d', 'c1e9c4c5637c2d67863ee53eef3aa2df20a6e56d', 'b323c4d8f284dd27b9bc8c8be5bee3cd30e2c8ca', 'a60791316f5d749d9248c755112653bd527db2fe', '03f98c175b4230960ac347b1100fbfc10c100d0c', '6b6fa87688f1e0ddb676a9ce5d18a7185f98d0c5', '61736617ae1eb5483a3b8b182815ab6c59bf4939', '9b1b350dc58def7b7d7b147b779aa0b534b5b335', '35e846afa7e247ed7ff5acc2448d4e766d9183dc', 'eee9d92794872fd3eecf38f86cd26d605f3eede7', '0b584f82ec87f068416c553b8c94778eecf9f7d6', '58ca5ac14af2765ce1d25c3a82d6f9312437ded0', '3c9ac1876a69b4e35b5f0690ea817de6ac26295d', 'd641503d4551dc3a3f9eabefd27045996ed16887', '3baddc440617ce202fd190b32b1d73f1bb14561d', 'b6b53d8c8790d668e799802444e31e90ac177479', '2cf9714cb82974c85c99a5f3bfe5cd79de52bd69', '26da3190bbe181dac7a0ced5cef7745358a5346c', '2d93e7af2e38d9479114006704b836533026279f', '1a3470626b24ccd510047925f80d21affde3c3b8', '8a7acaf6469c06ae5876d92f013184db5897bb13', 'dc53c638f58bf3982c5a6ed82002d56c955763c2', '222d8b2803f9cedf0da0b454c061c0bb46384722', '450d6ef1acfe802ae0cfeca71a8b355d103b2865', 'af777f8b1c694e353a57d81c3c1b4620e2ae61b1', '2d6d056ca33bb20e7bec33b49093cc4a907bf1a0', 'dd0b5dd2d15ebc6a5658c75ec102b64e359c674d', 'c1f8a3a1b4df9b7856d4fbcfa91ef2752bcc7070', '35a9c2fad935a2389a7b6e3a53d88ea476db611e', '071a6cd442706e424ea09bc8852eaa2e901c72f3', 'b743dafa3dcb8924244c14f0a719cde5e93d9155', '831d2fa6af688ef2d6b754bb315ef6cb20085763', '6a640438a4e50fa31943462eeca716413891a773', 'e9b7367c63ba970cc9a0360116b160dbe1eb1bb4', '755050d838b9b27d715c4bf1e8317294011fa5fc', '8663945d5090fe409e42af217ac19f77f69eee28', '1b9de2d1e74fbe49bf852fa495f63c31bb038a31', '595d0fe1c259c02069075d8c687210211908c3ed', 'abc7254b751b124ff98cbf522526cf2ce5376e95'], scores=array([25.882957 , 23.048092 , 21.487345 , 15.326306 , 15.008339 ,\n",
       "       14.661501 , 14.5524025, 14.49628  , 14.228694 , 13.837463 ,\n",
       "       13.796093 , 13.57072  , 13.536688 , 13.438    , 13.33793  ,\n",
       "       13.2009535, 13.157523 , 13.150376 , 12.943943 , 12.894042 ,\n",
       "       12.818537 , 12.801729 , 12.74225  , 12.502438 , 12.294656 ,\n",
       "       12.225283 , 12.219966 , 12.075517 , 11.996811 , 11.959464 ,\n",
       "       11.944234 , 11.833931 , 11.832078 , 11.817529 , 11.794199 ,\n",
       "       11.759341 , 11.749658 , 11.721568 , 11.675982 , 11.661502 ,\n",
       "       11.644913 , 11.623637 , 11.617721 , 11.418661 , 11.39984  ,\n",
       "       11.393229 , 11.373691 , 11.372035 , 11.354653 , 11.342207 ,\n",
       "       11.271814 , 11.204544 , 11.131927 , 11.116472 , 11.089201 ,\n",
       "       11.083519 , 11.082279 , 11.05196  , 10.975056 , 10.940313 ,\n",
       "       10.93409  , 10.8945465, 10.879114 , 10.864438 , 10.847451 ,\n",
       "       10.832269 , 10.772312 , 10.77147  , 10.71236  , 10.706525 ,\n",
       "       10.698383 , 10.68005  , 10.6775875, 10.643851 , 10.63102  ,\n",
       "       10.624665 , 10.601247 , 10.597593 , 10.581311 , 10.578881 ,\n",
       "       10.537812 , 10.488211 , 10.486176 , 10.47819  , 10.457276 ,\n",
       "       10.447503 , 10.400571 , 10.382628 , 10.371334 , 10.359387 ,\n",
       "       10.354765 , 10.342985 , 10.341277 , 10.3036785, 10.256121 ,\n",
       "       10.221265 , 10.217081 , 10.216501 , 10.209621 , 10.163714 ],\n",
       "      dtype=float32), normalized=False)"
      ]
     },
     "execution_count": 6,
     "metadata": {},
     "output_type": "execute_result"
    }
   ],
   "source": [
    "idx.search(queries[0])"
   ]
  }
 ],
 "metadata": {
  "kernelspec": {
   "display_name": ".venv",
   "language": "python",
   "name": "python3"
  },
  "language_info": {
   "codemirror_mode": {
    "name": "ipython",
    "version": 3
   },
   "file_extension": ".py",
   "mimetype": "text/x-python",
   "name": "python",
   "nbconvert_exporter": "python",
   "pygments_lexer": "ipython3",
   "version": "3.10.14"
  }
 },
 "nbformat": 4,
 "nbformat_minor": 2
}
